{
 "cells": [
  {
   "cell_type": "code",
   "execution_count": 1,
   "metadata": {},
   "outputs": [
    {
     "name": "stdout",
     "output_type": "stream",
     "text": [
      "Collecting openml\n",
      "  Downloading openml-0.11.0.tar.gz (110 kB)\n",
      "\u001b[K     |████████████████████████████████| 110 kB 9.9 MB/s eta 0:00:01\n",
      "\u001b[?25hCollecting liac-arff>=2.4.0\n",
      "  Downloading liac-arff-2.5.0.tar.gz (13 kB)\n",
      "Requirement already satisfied: xmltodict in /Users/shikharanand/Anaconda3/anaconda3/lib/python3.8/site-packages (from openml) (0.12.0)\n",
      "Requirement already satisfied: requests in /Users/shikharanand/Anaconda3/anaconda3/lib/python3.8/site-packages (from openml) (2.24.0)\n",
      "Requirement already satisfied: scikit-learn>=0.18 in /Users/shikharanand/Anaconda3/anaconda3/lib/python3.8/site-packages (from openml) (0.23.2)\n",
      "Requirement already satisfied: python-dateutil in /Users/shikharanand/Anaconda3/anaconda3/lib/python3.8/site-packages (from openml) (2.8.1)\n",
      "Requirement already satisfied: pandas>=1.0.0 in /Users/shikharanand/Anaconda3/anaconda3/lib/python3.8/site-packages (from openml) (1.1.3)\n",
      "Requirement already satisfied: scipy>=0.13.3 in /Users/shikharanand/Anaconda3/anaconda3/lib/python3.8/site-packages (from openml) (1.5.2)\n",
      "Requirement already satisfied: numpy>=1.6.2 in /Users/shikharanand/Anaconda3/anaconda3/lib/python3.8/site-packages (from openml) (1.19.2)\n",
      "Requirement already satisfied: idna<3,>=2.5 in /Users/shikharanand/Anaconda3/anaconda3/lib/python3.8/site-packages (from requests->openml) (2.10)\n",
      "Requirement already satisfied: chardet<4,>=3.0.2 in /Users/shikharanand/Anaconda3/anaconda3/lib/python3.8/site-packages (from requests->openml) (3.0.4)\n",
      "Requirement already satisfied: urllib3!=1.25.0,!=1.25.1,<1.26,>=1.21.1 in /Users/shikharanand/Anaconda3/anaconda3/lib/python3.8/site-packages (from requests->openml) (1.25.11)\n",
      "Requirement already satisfied: certifi>=2017.4.17 in /Users/shikharanand/Anaconda3/anaconda3/lib/python3.8/site-packages (from requests->openml) (2020.6.20)\n",
      "Requirement already satisfied: joblib>=0.11 in /Users/shikharanand/Anaconda3/anaconda3/lib/python3.8/site-packages (from scikit-learn>=0.18->openml) (0.17.0)\n",
      "Requirement already satisfied: threadpoolctl>=2.0.0 in /Users/shikharanand/Anaconda3/anaconda3/lib/python3.8/site-packages (from scikit-learn>=0.18->openml) (2.1.0)\n",
      "Requirement already satisfied: six>=1.5 in /Users/shikharanand/Anaconda3/anaconda3/lib/python3.8/site-packages (from python-dateutil->openml) (1.15.0)\n",
      "Requirement already satisfied: pytz>=2017.2 in /Users/shikharanand/Anaconda3/anaconda3/lib/python3.8/site-packages (from pandas>=1.0.0->openml) (2020.1)\n",
      "Building wheels for collected packages: openml, liac-arff\n",
      "  Building wheel for openml (setup.py) ... \u001b[?25ldone\n",
      "\u001b[?25h  Created wheel for openml: filename=openml-0.11.0-py3-none-any.whl size=127466 sha256=8d165acc53ecbc1fb4d453de96530a40921f5d479c62694565c67bcb20a7100a\n",
      "  Stored in directory: /Users/shikharanand/Library/Caches/pip/wheels/03/90/7f/84b4d9cc6392a453af51a63eade5b640fd5a1766f1edffcbb4\n",
      "  Building wheel for liac-arff (setup.py) ... \u001b[?25ldone\n",
      "\u001b[?25h  Created wheel for liac-arff: filename=liac_arff-2.5.0-py3-none-any.whl size=11730 sha256=4a81e3b2986786d627143439325c1c5c36379b10b7d5ca40de63cbf54d560656\n",
      "  Stored in directory: /Users/shikharanand/Library/Caches/pip/wheels/a2/de/68/bf3972de3ecb31e32bef59a7f4c75f0687a3674c476b347c14\n",
      "Successfully built openml liac-arff\n",
      "Installing collected packages: liac-arff, openml\n",
      "Successfully installed liac-arff-2.5.0 openml-0.11.0\n",
      "Note: you may need to restart the kernel to use updated packages.\n"
     ]
    }
   ],
   "source": [
    "pip install openml"
   ]
  },
  {
   "cell_type": "code",
   "execution_count": 8,
   "metadata": {},
   "outputs": [],
   "source": [
    "import pandas as pd\n",
    "import numpy as np"
   ]
  },
  {
   "cell_type": "code",
   "execution_count": 2,
   "metadata": {},
   "outputs": [],
   "source": [
    "from sklearn.datasets import fetch_openml"
   ]
  },
  {
   "cell_type": "code",
   "execution_count": 3,
   "metadata": {},
   "outputs": [
    {
     "name": "stderr",
     "output_type": "stream",
     "text": [
      "/Users/shikharanand/Anaconda3/anaconda3/lib/python3.8/site-packages/sklearn/datasets/_openml.py:373: UserWarning: Multiple active versions of the dataset matching the name iris exist. Versions may be fundamentally different, returning version 1.\n",
      "  warn(\"Multiple active versions of the dataset matching the name\"\n"
     ]
    }
   ],
   "source": [
    "iris = fetch_openml(name='iris')"
   ]
  },
  {
   "cell_type": "code",
   "execution_count": 4,
   "metadata": {},
   "outputs": [
    {
     "data": {
      "text/plain": [
       "(150, 4)"
      ]
     },
     "execution_count": 4,
     "metadata": {},
     "output_type": "execute_result"
    }
   ],
   "source": [
    "iris.data.shape"
   ]
  },
  {
   "cell_type": "code",
   "execution_count": 9,
   "metadata": {},
   "outputs": [
    {
     "data": {
      "text/plain": [
       "(150,)"
      ]
     },
     "execution_count": 9,
     "metadata": {},
     "output_type": "execute_result"
    }
   ],
   "source": [
    "iris.target.shape"
   ]
  },
  {
   "cell_type": "code",
   "execution_count": 11,
   "metadata": {},
   "outputs": [
    {
     "data": {
      "text/plain": [
       "array(['Iris-setosa', 'Iris-versicolor', 'Iris-virginica'], dtype=object)"
      ]
     },
     "execution_count": 11,
     "metadata": {},
     "output_type": "execute_result"
    }
   ],
   "source": [
    "np.unique(iris.target)"
   ]
  },
  {
   "cell_type": "code",
   "execution_count": 10,
   "metadata": {},
   "outputs": [
    {
     "data": {
      "text/plain": [
       "\"**Author**: R.A. Fisher  \\n**Source**: [UCI](https://archive.ics.uci.edu/ml/datasets/Iris) - 1936 - Donated by Michael Marshall  \\n**Please cite**: [UCI Citation Policy](https://archive.ics.uci.edu/ml/citation_policy.html)  \\n\\n**Iris Plants Database**  \\nThis is perhaps the best known database to be found in the pattern recognition literature.  Fisher's paper is a classic in the field and is referenced frequently to this day.  (See Duda & Hart, for example.)  The data set contains 3 classes of 50 instances each, where each class refers to a type of iris plant.  One class is     linearly separable from the other 2; the latter are NOT linearly separable from each other.\\n\\nPredicted attribute: class of iris plant.  \\nThis is an exceedingly simple domain.  \\n \\n### Attribute Information:\\n    1. sepal length in cm\\n    2. sepal width in cm\\n    3. petal length in cm\\n    4. petal width in cm\\n    5. class: \\n       -- Iris Setosa\\n       -- Iris Versicolour\\n       -- Iris Virginica\\n\\nDownloaded from openml.org.\""
      ]
     },
     "execution_count": 10,
     "metadata": {},
     "output_type": "execute_result"
    }
   ],
   "source": [
    "iris.DESCR"
   ]
  },
  {
   "cell_type": "code",
   "execution_count": 12,
   "metadata": {},
   "outputs": [
    {
     "data": {
      "text/plain": [
       "{'id': '61',\n",
       " 'name': 'iris',\n",
       " 'version': '1',\n",
       " 'format': 'ARFF',\n",
       " 'creator': 'R.A. Fisher',\n",
       " 'collection_date': '1936',\n",
       " 'upload_date': '2014-04-06T23:23:39',\n",
       " 'language': 'English',\n",
       " 'licence': 'Public',\n",
       " 'url': 'https://www.openml.org/data/v1/download/61/iris.arff',\n",
       " 'file_id': '61',\n",
       " 'default_target_attribute': 'class',\n",
       " 'version_label': '1',\n",
       " 'citation': 'https://archive.ics.uci.edu/ml/citation_policy.html',\n",
       " 'tag': ['study_1',\n",
       "  'study_25',\n",
       "  'study_4',\n",
       "  'study_41',\n",
       "  'study_50',\n",
       "  'study_52',\n",
       "  'study_7',\n",
       "  'study_86',\n",
       "  'study_88',\n",
       "  'study_89',\n",
       "  'uci'],\n",
       " 'visibility': 'public',\n",
       " 'original_data_url': 'https://archive.ics.uci.edu/ml/datasets/Iris',\n",
       " 'paper_url': 'http://digital.library.adelaide.edu.au/dspace/handle/2440/15227',\n",
       " 'status': 'active',\n",
       " 'processing_date': '2020-11-20 19:02:18',\n",
       " 'md5_checksum': 'ad484452702105cbf3d30f8deaba39a9'}"
      ]
     },
     "execution_count": 12,
     "metadata": {},
     "output_type": "execute_result"
    }
   ],
   "source": [
    "iris.details"
   ]
  },
  {
   "cell_type": "code",
   "execution_count": 13,
   "metadata": {},
   "outputs": [
    {
     "data": {
      "text/plain": [
       "{'data': array([[5.1, 3.5, 1.4, 0.2],\n",
       "        [4.9, 3. , 1.4, 0.2],\n",
       "        [4.7, 3.2, 1.3, 0.2],\n",
       "        [4.6, 3.1, 1.5, 0.2],\n",
       "        [5. , 3.6, 1.4, 0.2],\n",
       "        [5.4, 3.9, 1.7, 0.4],\n",
       "        [4.6, 3.4, 1.4, 0.3],\n",
       "        [5. , 3.4, 1.5, 0.2],\n",
       "        [4.4, 2.9, 1.4, 0.2],\n",
       "        [4.9, 3.1, 1.5, 0.1],\n",
       "        [5.4, 3.7, 1.5, 0.2],\n",
       "        [4.8, 3.4, 1.6, 0.2],\n",
       "        [4.8, 3. , 1.4, 0.1],\n",
       "        [4.3, 3. , 1.1, 0.1],\n",
       "        [5.8, 4. , 1.2, 0.2],\n",
       "        [5.7, 4.4, 1.5, 0.4],\n",
       "        [5.4, 3.9, 1.3, 0.4],\n",
       "        [5.1, 3.5, 1.4, 0.3],\n",
       "        [5.7, 3.8, 1.7, 0.3],\n",
       "        [5.1, 3.8, 1.5, 0.3],\n",
       "        [5.4, 3.4, 1.7, 0.2],\n",
       "        [5.1, 3.7, 1.5, 0.4],\n",
       "        [4.6, 3.6, 1. , 0.2],\n",
       "        [5.1, 3.3, 1.7, 0.5],\n",
       "        [4.8, 3.4, 1.9, 0.2],\n",
       "        [5. , 3. , 1.6, 0.2],\n",
       "        [5. , 3.4, 1.6, 0.4],\n",
       "        [5.2, 3.5, 1.5, 0.2],\n",
       "        [5.2, 3.4, 1.4, 0.2],\n",
       "        [4.7, 3.2, 1.6, 0.2],\n",
       "        [4.8, 3.1, 1.6, 0.2],\n",
       "        [5.4, 3.4, 1.5, 0.4],\n",
       "        [5.2, 4.1, 1.5, 0.1],\n",
       "        [5.5, 4.2, 1.4, 0.2],\n",
       "        [4.9, 3.1, 1.5, 0.1],\n",
       "        [5. , 3.2, 1.2, 0.2],\n",
       "        [5.5, 3.5, 1.3, 0.2],\n",
       "        [4.9, 3.1, 1.5, 0.1],\n",
       "        [4.4, 3. , 1.3, 0.2],\n",
       "        [5.1, 3.4, 1.5, 0.2],\n",
       "        [5. , 3.5, 1.3, 0.3],\n",
       "        [4.5, 2.3, 1.3, 0.3],\n",
       "        [4.4, 3.2, 1.3, 0.2],\n",
       "        [5. , 3.5, 1.6, 0.6],\n",
       "        [5.1, 3.8, 1.9, 0.4],\n",
       "        [4.8, 3. , 1.4, 0.3],\n",
       "        [5.1, 3.8, 1.6, 0.2],\n",
       "        [4.6, 3.2, 1.4, 0.2],\n",
       "        [5.3, 3.7, 1.5, 0.2],\n",
       "        [5. , 3.3, 1.4, 0.2],\n",
       "        [7. , 3.2, 4.7, 1.4],\n",
       "        [6.4, 3.2, 4.5, 1.5],\n",
       "        [6.9, 3.1, 4.9, 1.5],\n",
       "        [5.5, 2.3, 4. , 1.3],\n",
       "        [6.5, 2.8, 4.6, 1.5],\n",
       "        [5.7, 2.8, 4.5, 1.3],\n",
       "        [6.3, 3.3, 4.7, 1.6],\n",
       "        [4.9, 2.4, 3.3, 1. ],\n",
       "        [6.6, 2.9, 4.6, 1.3],\n",
       "        [5.2, 2.7, 3.9, 1.4],\n",
       "        [5. , 2. , 3.5, 1. ],\n",
       "        [5.9, 3. , 4.2, 1.5],\n",
       "        [6. , 2.2, 4. , 1. ],\n",
       "        [6.1, 2.9, 4.7, 1.4],\n",
       "        [5.6, 2.9, 3.6, 1.3],\n",
       "        [6.7, 3.1, 4.4, 1.4],\n",
       "        [5.6, 3. , 4.5, 1.5],\n",
       "        [5.8, 2.7, 4.1, 1. ],\n",
       "        [6.2, 2.2, 4.5, 1.5],\n",
       "        [5.6, 2.5, 3.9, 1.1],\n",
       "        [5.9, 3.2, 4.8, 1.8],\n",
       "        [6.1, 2.8, 4. , 1.3],\n",
       "        [6.3, 2.5, 4.9, 1.5],\n",
       "        [6.1, 2.8, 4.7, 1.2],\n",
       "        [6.4, 2.9, 4.3, 1.3],\n",
       "        [6.6, 3. , 4.4, 1.4],\n",
       "        [6.8, 2.8, 4.8, 1.4],\n",
       "        [6.7, 3. , 5. , 1.7],\n",
       "        [6. , 2.9, 4.5, 1.5],\n",
       "        [5.7, 2.6, 3.5, 1. ],\n",
       "        [5.5, 2.4, 3.8, 1.1],\n",
       "        [5.5, 2.4, 3.7, 1. ],\n",
       "        [5.8, 2.7, 3.9, 1.2],\n",
       "        [6. , 2.7, 5.1, 1.6],\n",
       "        [5.4, 3. , 4.5, 1.5],\n",
       "        [6. , 3.4, 4.5, 1.6],\n",
       "        [6.7, 3.1, 4.7, 1.5],\n",
       "        [6.3, 2.3, 4.4, 1.3],\n",
       "        [5.6, 3. , 4.1, 1.3],\n",
       "        [5.5, 2.5, 4. , 1.3],\n",
       "        [5.5, 2.6, 4.4, 1.2],\n",
       "        [6.1, 3. , 4.6, 1.4],\n",
       "        [5.8, 2.6, 4. , 1.2],\n",
       "        [5. , 2.3, 3.3, 1. ],\n",
       "        [5.6, 2.7, 4.2, 1.3],\n",
       "        [5.7, 3. , 4.2, 1.2],\n",
       "        [5.7, 2.9, 4.2, 1.3],\n",
       "        [6.2, 2.9, 4.3, 1.3],\n",
       "        [5.1, 2.5, 3. , 1.1],\n",
       "        [5.7, 2.8, 4.1, 1.3],\n",
       "        [6.3, 3.3, 6. , 2.5],\n",
       "        [5.8, 2.7, 5.1, 1.9],\n",
       "        [7.1, 3. , 5.9, 2.1],\n",
       "        [6.3, 2.9, 5.6, 1.8],\n",
       "        [6.5, 3. , 5.8, 2.2],\n",
       "        [7.6, 3. , 6.6, 2.1],\n",
       "        [4.9, 2.5, 4.5, 1.7],\n",
       "        [7.3, 2.9, 6.3, 1.8],\n",
       "        [6.7, 2.5, 5.8, 1.8],\n",
       "        [7.2, 3.6, 6.1, 2.5],\n",
       "        [6.5, 3.2, 5.1, 2. ],\n",
       "        [6.4, 2.7, 5.3, 1.9],\n",
       "        [6.8, 3. , 5.5, 2.1],\n",
       "        [5.7, 2.5, 5. , 2. ],\n",
       "        [5.8, 2.8, 5.1, 2.4],\n",
       "        [6.4, 3.2, 5.3, 2.3],\n",
       "        [6.5, 3. , 5.5, 1.8],\n",
       "        [7.7, 3.8, 6.7, 2.2],\n",
       "        [7.7, 2.6, 6.9, 2.3],\n",
       "        [6. , 2.2, 5. , 1.5],\n",
       "        [6.9, 3.2, 5.7, 2.3],\n",
       "        [5.6, 2.8, 4.9, 2. ],\n",
       "        [7.7, 2.8, 6.7, 2. ],\n",
       "        [6.3, 2.7, 4.9, 1.8],\n",
       "        [6.7, 3.3, 5.7, 2.1],\n",
       "        [7.2, 3.2, 6. , 1.8],\n",
       "        [6.2, 2.8, 4.8, 1.8],\n",
       "        [6.1, 3. , 4.9, 1.8],\n",
       "        [6.4, 2.8, 5.6, 2.1],\n",
       "        [7.2, 3. , 5.8, 1.6],\n",
       "        [7.4, 2.8, 6.1, 1.9],\n",
       "        [7.9, 3.8, 6.4, 2. ],\n",
       "        [6.4, 2.8, 5.6, 2.2],\n",
       "        [6.3, 2.8, 5.1, 1.5],\n",
       "        [6.1, 2.6, 5.6, 1.4],\n",
       "        [7.7, 3. , 6.1, 2.3],\n",
       "        [6.3, 3.4, 5.6, 2.4],\n",
       "        [6.4, 3.1, 5.5, 1.8],\n",
       "        [6. , 3. , 4.8, 1.8],\n",
       "        [6.9, 3.1, 5.4, 2.1],\n",
       "        [6.7, 3.1, 5.6, 2.4],\n",
       "        [6.9, 3.1, 5.1, 2.3],\n",
       "        [5.8, 2.7, 5.1, 1.9],\n",
       "        [6.8, 3.2, 5.9, 2.3],\n",
       "        [6.7, 3.3, 5.7, 2.5],\n",
       "        [6.7, 3. , 5.2, 2.3],\n",
       "        [6.3, 2.5, 5. , 1.9],\n",
       "        [6.5, 3. , 5.2, 2. ],\n",
       "        [6.2, 3.4, 5.4, 2.3],\n",
       "        [5.9, 3. , 5.1, 1.8]]),\n",
       " 'target': array(['Iris-setosa', 'Iris-setosa', 'Iris-setosa', 'Iris-setosa',\n",
       "        'Iris-setosa', 'Iris-setosa', 'Iris-setosa', 'Iris-setosa',\n",
       "        'Iris-setosa', 'Iris-setosa', 'Iris-setosa', 'Iris-setosa',\n",
       "        'Iris-setosa', 'Iris-setosa', 'Iris-setosa', 'Iris-setosa',\n",
       "        'Iris-setosa', 'Iris-setosa', 'Iris-setosa', 'Iris-setosa',\n",
       "        'Iris-setosa', 'Iris-setosa', 'Iris-setosa', 'Iris-setosa',\n",
       "        'Iris-setosa', 'Iris-setosa', 'Iris-setosa', 'Iris-setosa',\n",
       "        'Iris-setosa', 'Iris-setosa', 'Iris-setosa', 'Iris-setosa',\n",
       "        'Iris-setosa', 'Iris-setosa', 'Iris-setosa', 'Iris-setosa',\n",
       "        'Iris-setosa', 'Iris-setosa', 'Iris-setosa', 'Iris-setosa',\n",
       "        'Iris-setosa', 'Iris-setosa', 'Iris-setosa', 'Iris-setosa',\n",
       "        'Iris-setosa', 'Iris-setosa', 'Iris-setosa', 'Iris-setosa',\n",
       "        'Iris-setosa', 'Iris-setosa', 'Iris-versicolor', 'Iris-versicolor',\n",
       "        'Iris-versicolor', 'Iris-versicolor', 'Iris-versicolor',\n",
       "        'Iris-versicolor', 'Iris-versicolor', 'Iris-versicolor',\n",
       "        'Iris-versicolor', 'Iris-versicolor', 'Iris-versicolor',\n",
       "        'Iris-versicolor', 'Iris-versicolor', 'Iris-versicolor',\n",
       "        'Iris-versicolor', 'Iris-versicolor', 'Iris-versicolor',\n",
       "        'Iris-versicolor', 'Iris-versicolor', 'Iris-versicolor',\n",
       "        'Iris-versicolor', 'Iris-versicolor', 'Iris-versicolor',\n",
       "        'Iris-versicolor', 'Iris-versicolor', 'Iris-versicolor',\n",
       "        'Iris-versicolor', 'Iris-versicolor', 'Iris-versicolor',\n",
       "        'Iris-versicolor', 'Iris-versicolor', 'Iris-versicolor',\n",
       "        'Iris-versicolor', 'Iris-versicolor', 'Iris-versicolor',\n",
       "        'Iris-versicolor', 'Iris-versicolor', 'Iris-versicolor',\n",
       "        'Iris-versicolor', 'Iris-versicolor', 'Iris-versicolor',\n",
       "        'Iris-versicolor', 'Iris-versicolor', 'Iris-versicolor',\n",
       "        'Iris-versicolor', 'Iris-versicolor', 'Iris-versicolor',\n",
       "        'Iris-versicolor', 'Iris-versicolor', 'Iris-versicolor',\n",
       "        'Iris-virginica', 'Iris-virginica', 'Iris-virginica',\n",
       "        'Iris-virginica', 'Iris-virginica', 'Iris-virginica',\n",
       "        'Iris-virginica', 'Iris-virginica', 'Iris-virginica',\n",
       "        'Iris-virginica', 'Iris-virginica', 'Iris-virginica',\n",
       "        'Iris-virginica', 'Iris-virginica', 'Iris-virginica',\n",
       "        'Iris-virginica', 'Iris-virginica', 'Iris-virginica',\n",
       "        'Iris-virginica', 'Iris-virginica', 'Iris-virginica',\n",
       "        'Iris-virginica', 'Iris-virginica', 'Iris-virginica',\n",
       "        'Iris-virginica', 'Iris-virginica', 'Iris-virginica',\n",
       "        'Iris-virginica', 'Iris-virginica', 'Iris-virginica',\n",
       "        'Iris-virginica', 'Iris-virginica', 'Iris-virginica',\n",
       "        'Iris-virginica', 'Iris-virginica', 'Iris-virginica',\n",
       "        'Iris-virginica', 'Iris-virginica', 'Iris-virginica',\n",
       "        'Iris-virginica', 'Iris-virginica', 'Iris-virginica',\n",
       "        'Iris-virginica', 'Iris-virginica', 'Iris-virginica',\n",
       "        'Iris-virginica', 'Iris-virginica', 'Iris-virginica',\n",
       "        'Iris-virginica', 'Iris-virginica'], dtype=object),\n",
       " 'frame': None,\n",
       " 'categories': {},\n",
       " 'feature_names': ['sepallength', 'sepalwidth', 'petallength', 'petalwidth'],\n",
       " 'target_names': ['class'],\n",
       " 'DESCR': \"**Author**: R.A. Fisher  \\n**Source**: [UCI](https://archive.ics.uci.edu/ml/datasets/Iris) - 1936 - Donated by Michael Marshall  \\n**Please cite**: [UCI Citation Policy](https://archive.ics.uci.edu/ml/citation_policy.html)  \\n\\n**Iris Plants Database**  \\nThis is perhaps the best known database to be found in the pattern recognition literature.  Fisher's paper is a classic in the field and is referenced frequently to this day.  (See Duda & Hart, for example.)  The data set contains 3 classes of 50 instances each, where each class refers to a type of iris plant.  One class is     linearly separable from the other 2; the latter are NOT linearly separable from each other.\\n\\nPredicted attribute: class of iris plant.  \\nThis is an exceedingly simple domain.  \\n \\n### Attribute Information:\\n    1. sepal length in cm\\n    2. sepal width in cm\\n    3. petal length in cm\\n    4. petal width in cm\\n    5. class: \\n       -- Iris Setosa\\n       -- Iris Versicolour\\n       -- Iris Virginica\\n\\nDownloaded from openml.org.\",\n",
       " 'details': {'id': '61',\n",
       "  'name': 'iris',\n",
       "  'version': '1',\n",
       "  'format': 'ARFF',\n",
       "  'creator': 'R.A. Fisher',\n",
       "  'collection_date': '1936',\n",
       "  'upload_date': '2014-04-06T23:23:39',\n",
       "  'language': 'English',\n",
       "  'licence': 'Public',\n",
       "  'url': 'https://www.openml.org/data/v1/download/61/iris.arff',\n",
       "  'file_id': '61',\n",
       "  'default_target_attribute': 'class',\n",
       "  'version_label': '1',\n",
       "  'citation': 'https://archive.ics.uci.edu/ml/citation_policy.html',\n",
       "  'tag': ['study_1',\n",
       "   'study_25',\n",
       "   'study_4',\n",
       "   'study_41',\n",
       "   'study_50',\n",
       "   'study_52',\n",
       "   'study_7',\n",
       "   'study_86',\n",
       "   'study_88',\n",
       "   'study_89',\n",
       "   'uci'],\n",
       "  'visibility': 'public',\n",
       "  'original_data_url': 'https://archive.ics.uci.edu/ml/datasets/Iris',\n",
       "  'paper_url': 'http://digital.library.adelaide.edu.au/dspace/handle/2440/15227',\n",
       "  'status': 'active',\n",
       "  'processing_date': '2020-11-20 19:02:18',\n",
       "  'md5_checksum': 'ad484452702105cbf3d30f8deaba39a9'},\n",
       " 'url': 'https://www.openml.org/d/61'}"
      ]
     },
     "execution_count": 13,
     "metadata": {},
     "output_type": "execute_result"
    }
   ],
   "source": [
    "iris"
   ]
  },
  {
   "cell_type": "markdown",
   "metadata": {},
   "source": [
    "### Converting numpy array to pandas dataframe"
   ]
  },
  {
   "cell_type": "code",
   "execution_count": 21,
   "metadata": {},
   "outputs": [
    {
     "data": {
      "text/plain": [
       "(150, 4)"
      ]
     },
     "execution_count": 21,
     "metadata": {},
     "output_type": "execute_result"
    }
   ],
   "source": [
    "iris.data.shape"
   ]
  },
  {
   "cell_type": "code",
   "execution_count": 22,
   "metadata": {},
   "outputs": [
    {
     "data": {
      "text/plain": [
       "(150,)"
      ]
     },
     "execution_count": 22,
     "metadata": {},
     "output_type": "execute_result"
    }
   ],
   "source": [
    "iris.target.shape"
   ]
  },
  {
   "cell_type": "code",
   "execution_count": 23,
   "metadata": {},
   "outputs": [],
   "source": [
    "X_df = pd.DataFrame(data=iris.data,    # values\n",
    "    index=np.array(range(1,151)),    # 1st column as index\n",
    "    columns=np.array(range(1,5)))  # 1st row as the column names"
   ]
  },
  {
   "cell_type": "code",
   "execution_count": 24,
   "metadata": {},
   "outputs": [],
   "source": [
    "y_df = pd.DataFrame(data=iris.target,    # values\n",
    "    index=np.array(range(1,151)),    # 1st column as index\n",
    "    columns=np.array(range(1,2)))  # 1st row as the column names"
   ]
  },
  {
   "cell_type": "code",
   "execution_count": 25,
   "metadata": {},
   "outputs": [
    {
     "data": {
      "text/html": [
       "<div>\n",
       "<style scoped>\n",
       "    .dataframe tbody tr th:only-of-type {\n",
       "        vertical-align: middle;\n",
       "    }\n",
       "\n",
       "    .dataframe tbody tr th {\n",
       "        vertical-align: top;\n",
       "    }\n",
       "\n",
       "    .dataframe thead th {\n",
       "        text-align: right;\n",
       "    }\n",
       "</style>\n",
       "<table border=\"1\" class=\"dataframe\">\n",
       "  <thead>\n",
       "    <tr style=\"text-align: right;\">\n",
       "      <th></th>\n",
       "      <th>1</th>\n",
       "      <th>2</th>\n",
       "      <th>3</th>\n",
       "      <th>4</th>\n",
       "    </tr>\n",
       "  </thead>\n",
       "  <tbody>\n",
       "    <tr>\n",
       "      <th>1</th>\n",
       "      <td>5.1</td>\n",
       "      <td>3.5</td>\n",
       "      <td>1.4</td>\n",
       "      <td>0.2</td>\n",
       "    </tr>\n",
       "    <tr>\n",
       "      <th>2</th>\n",
       "      <td>4.9</td>\n",
       "      <td>3.0</td>\n",
       "      <td>1.4</td>\n",
       "      <td>0.2</td>\n",
       "    </tr>\n",
       "    <tr>\n",
       "      <th>3</th>\n",
       "      <td>4.7</td>\n",
       "      <td>3.2</td>\n",
       "      <td>1.3</td>\n",
       "      <td>0.2</td>\n",
       "    </tr>\n",
       "    <tr>\n",
       "      <th>4</th>\n",
       "      <td>4.6</td>\n",
       "      <td>3.1</td>\n",
       "      <td>1.5</td>\n",
       "      <td>0.2</td>\n",
       "    </tr>\n",
       "    <tr>\n",
       "      <th>5</th>\n",
       "      <td>5.0</td>\n",
       "      <td>3.6</td>\n",
       "      <td>1.4</td>\n",
       "      <td>0.2</td>\n",
       "    </tr>\n",
       "    <tr>\n",
       "      <th>...</th>\n",
       "      <td>...</td>\n",
       "      <td>...</td>\n",
       "      <td>...</td>\n",
       "      <td>...</td>\n",
       "    </tr>\n",
       "    <tr>\n",
       "      <th>146</th>\n",
       "      <td>6.7</td>\n",
       "      <td>3.0</td>\n",
       "      <td>5.2</td>\n",
       "      <td>2.3</td>\n",
       "    </tr>\n",
       "    <tr>\n",
       "      <th>147</th>\n",
       "      <td>6.3</td>\n",
       "      <td>2.5</td>\n",
       "      <td>5.0</td>\n",
       "      <td>1.9</td>\n",
       "    </tr>\n",
       "    <tr>\n",
       "      <th>148</th>\n",
       "      <td>6.5</td>\n",
       "      <td>3.0</td>\n",
       "      <td>5.2</td>\n",
       "      <td>2.0</td>\n",
       "    </tr>\n",
       "    <tr>\n",
       "      <th>149</th>\n",
       "      <td>6.2</td>\n",
       "      <td>3.4</td>\n",
       "      <td>5.4</td>\n",
       "      <td>2.3</td>\n",
       "    </tr>\n",
       "    <tr>\n",
       "      <th>150</th>\n",
       "      <td>5.9</td>\n",
       "      <td>3.0</td>\n",
       "      <td>5.1</td>\n",
       "      <td>1.8</td>\n",
       "    </tr>\n",
       "  </tbody>\n",
       "</table>\n",
       "<p>150 rows × 4 columns</p>\n",
       "</div>"
      ],
      "text/plain": [
       "       1    2    3    4\n",
       "1    5.1  3.5  1.4  0.2\n",
       "2    4.9  3.0  1.4  0.2\n",
       "3    4.7  3.2  1.3  0.2\n",
       "4    4.6  3.1  1.5  0.2\n",
       "5    5.0  3.6  1.4  0.2\n",
       "..   ...  ...  ...  ...\n",
       "146  6.7  3.0  5.2  2.3\n",
       "147  6.3  2.5  5.0  1.9\n",
       "148  6.5  3.0  5.2  2.0\n",
       "149  6.2  3.4  5.4  2.3\n",
       "150  5.9  3.0  5.1  1.8\n",
       "\n",
       "[150 rows x 4 columns]"
      ]
     },
     "execution_count": 25,
     "metadata": {},
     "output_type": "execute_result"
    }
   ],
   "source": [
    "X_df"
   ]
  },
  {
   "cell_type": "code",
   "execution_count": 26,
   "metadata": {},
   "outputs": [
    {
     "data": {
      "text/html": [
       "<div>\n",
       "<style scoped>\n",
       "    .dataframe tbody tr th:only-of-type {\n",
       "        vertical-align: middle;\n",
       "    }\n",
       "\n",
       "    .dataframe tbody tr th {\n",
       "        vertical-align: top;\n",
       "    }\n",
       "\n",
       "    .dataframe thead th {\n",
       "        text-align: right;\n",
       "    }\n",
       "</style>\n",
       "<table border=\"1\" class=\"dataframe\">\n",
       "  <thead>\n",
       "    <tr style=\"text-align: right;\">\n",
       "      <th></th>\n",
       "      <th>1</th>\n",
       "    </tr>\n",
       "  </thead>\n",
       "  <tbody>\n",
       "    <tr>\n",
       "      <th>1</th>\n",
       "      <td>Iris-setosa</td>\n",
       "    </tr>\n",
       "    <tr>\n",
       "      <th>2</th>\n",
       "      <td>Iris-setosa</td>\n",
       "    </tr>\n",
       "    <tr>\n",
       "      <th>3</th>\n",
       "      <td>Iris-setosa</td>\n",
       "    </tr>\n",
       "    <tr>\n",
       "      <th>4</th>\n",
       "      <td>Iris-setosa</td>\n",
       "    </tr>\n",
       "    <tr>\n",
       "      <th>5</th>\n",
       "      <td>Iris-setosa</td>\n",
       "    </tr>\n",
       "    <tr>\n",
       "      <th>...</th>\n",
       "      <td>...</td>\n",
       "    </tr>\n",
       "    <tr>\n",
       "      <th>146</th>\n",
       "      <td>Iris-virginica</td>\n",
       "    </tr>\n",
       "    <tr>\n",
       "      <th>147</th>\n",
       "      <td>Iris-virginica</td>\n",
       "    </tr>\n",
       "    <tr>\n",
       "      <th>148</th>\n",
       "      <td>Iris-virginica</td>\n",
       "    </tr>\n",
       "    <tr>\n",
       "      <th>149</th>\n",
       "      <td>Iris-virginica</td>\n",
       "    </tr>\n",
       "    <tr>\n",
       "      <th>150</th>\n",
       "      <td>Iris-virginica</td>\n",
       "    </tr>\n",
       "  </tbody>\n",
       "</table>\n",
       "<p>150 rows × 1 columns</p>\n",
       "</div>"
      ],
      "text/plain": [
       "                  1\n",
       "1       Iris-setosa\n",
       "2       Iris-setosa\n",
       "3       Iris-setosa\n",
       "4       Iris-setosa\n",
       "5       Iris-setosa\n",
       "..              ...\n",
       "146  Iris-virginica\n",
       "147  Iris-virginica\n",
       "148  Iris-virginica\n",
       "149  Iris-virginica\n",
       "150  Iris-virginica\n",
       "\n",
       "[150 rows x 1 columns]"
      ]
     },
     "execution_count": 26,
     "metadata": {},
     "output_type": "execute_result"
    }
   ],
   "source": [
    "y_df"
   ]
  },
  {
   "cell_type": "code",
   "execution_count": 30,
   "metadata": {},
   "outputs": [],
   "source": [
    "from sklearn.neighbors import KNeighborsClassifier"
   ]
  },
  {
   "cell_type": "markdown",
   "metadata": {},
   "source": [
    "### Training the model:\n"
   ]
  },
  {
   "cell_type": "code",
   "execution_count": 33,
   "metadata": {},
   "outputs": [
    {
     "name": "stderr",
     "output_type": "stream",
     "text": [
      "<ipython-input-33-314705c20aee>:2: DataConversionWarning: A column-vector y was passed when a 1d array was expected. Please change the shape of y to (n_samples, ), for example using ravel().\n",
      "  neigh.fit(X_df,y_df)\n"
     ]
    },
    {
     "data": {
      "text/plain": [
       "KNeighborsClassifier(n_neighbors=4)"
      ]
     },
     "execution_count": 33,
     "metadata": {},
     "output_type": "execute_result"
    }
   ],
   "source": [
    "neigh = KNeighborsClassifier(n_neighbors=4)\n",
    "neigh.fit(X_df,y_df)"
   ]
  },
  {
   "cell_type": "code",
   "execution_count": null,
   "metadata": {},
   "outputs": [],
   "source": [
    "neigh.predict()"
   ]
  }
 ],
 "metadata": {
  "kernelspec": {
   "display_name": "Python 3",
   "language": "python",
   "name": "python3"
  },
  "language_info": {
   "codemirror_mode": {
    "name": "ipython",
    "version": 3
   },
   "file_extension": ".py",
   "mimetype": "text/x-python",
   "name": "python",
   "nbconvert_exporter": "python",
   "pygments_lexer": "ipython3",
   "version": "3.8.5"
  }
 },
 "nbformat": 4,
 "nbformat_minor": 4
}
