{
 "cells": [
  {
   "cell_type": "code",
   "execution_count": 1,
   "metadata": {},
   "outputs": [],
   "source": [
    "import pandas as pd\n",
    "import numpy as np\n",
    "from sklearn.datasets import fetch_openml"
   ]
  },
  {
   "cell_type": "code",
   "execution_count": 2,
   "metadata": {},
   "outputs": [
    {
     "name": "stderr",
     "output_type": "stream",
     "text": [
      "/Users/shikharanand/Anaconda3/anaconda3/lib/python3.8/site-packages/sklearn/datasets/_openml.py:373: UserWarning: Multiple active versions of the dataset matching the name wine exist. Versions may be fundamentally different, returning version 1.\n",
      "  warn(\"Multiple active versions of the dataset matching the name\"\n"
     ]
    }
   ],
   "source": [
    "wine = fetch_openml(name='wine')"
   ]
  },
  {
   "cell_type": "code",
   "execution_count": 3,
   "metadata": {
    "scrolled": true
   },
   "outputs": [
    {
     "data": {
      "text/plain": [
       "{'data': array([[1.423e+01, 1.710e+00, 2.430e+00, ..., 1.040e+00, 3.920e+00,\n",
       "         1.065e+03],\n",
       "        [1.320e+01, 1.780e+00, 2.140e+00, ..., 1.050e+00, 3.400e+00,\n",
       "         1.050e+03],\n",
       "        [1.316e+01, 2.360e+00, 2.670e+00, ..., 1.030e+00, 3.170e+00,\n",
       "         1.185e+03],\n",
       "        ...,\n",
       "        [1.327e+01, 4.280e+00, 2.260e+00, ..., 5.900e-01, 1.560e+00,\n",
       "         8.350e+02],\n",
       "        [1.317e+01, 2.590e+00, 2.370e+00, ..., 6.000e-01, 1.620e+00,\n",
       "         8.400e+02],\n",
       "        [1.413e+01, 4.100e+00, 2.740e+00, ..., 6.100e-01, 1.600e+00,\n",
       "         5.600e+02]]),\n",
       " 'target': array(['1', '1', '1', '1', '1', '1', '1', '1', '1', '1', '1', '1', '1',\n",
       "        '1', '1', '1', '1', '1', '1', '1', '1', '1', '1', '1', '1', '1',\n",
       "        '1', '1', '1', '1', '1', '1', '1', '1', '1', '1', '1', '1', '1',\n",
       "        '1', '1', '1', '1', '1', '1', '1', '1', '1', '1', '1', '1', '1',\n",
       "        '1', '1', '1', '1', '1', '1', '1', '2', '2', '2', '2', '2', '2',\n",
       "        '2', '2', '2', '2', '2', '2', '2', '2', '2', '2', '2', '2', '2',\n",
       "        '2', '2', '2', '2', '2', '2', '2', '2', '2', '2', '2', '2', '2',\n",
       "        '2', '2', '2', '2', '2', '2', '2', '2', '2', '2', '2', '2', '2',\n",
       "        '2', '2', '2', '2', '2', '2', '2', '2', '2', '2', '2', '2', '2',\n",
       "        '2', '2', '2', '2', '2', '2', '2', '2', '2', '2', '2', '2', '2',\n",
       "        '3', '3', '3', '3', '3', '3', '3', '3', '3', '3', '3', '3', '3',\n",
       "        '3', '3', '3', '3', '3', '3', '3', '3', '3', '3', '3', '3', '3',\n",
       "        '3', '3', '3', '3', '3', '3', '3', '3', '3', '3', '3', '3', '3',\n",
       "        '3', '3', '3', '3', '3', '3', '3', '3', '3'], dtype=object),\n",
       " 'frame': None,\n",
       " 'categories': {},\n",
       " 'feature_names': ['Alcohol',\n",
       "  'Malic_acid',\n",
       "  'Ash',\n",
       "  'Alcalinity_of_ash',\n",
       "  'Magnesium',\n",
       "  'Total_phenols',\n",
       "  'Flavanoids',\n",
       "  'Nonflavanoid_phenols',\n",
       "  'Proanthocyanins',\n",
       "  'Color_intensity',\n",
       "  'Hue',\n",
       "  'OD280%2FOD315_of_diluted_wines',\n",
       "  'Proline'],\n",
       " 'target_names': ['class'],\n",
       " 'DESCR': '**Author**: Forina, M. et al\\n**Source**: Forina, M. et al, PARVUS - An Extendible Package for Data Exploration, Classification and Correlation. Institute of Pharmaceutical and Food Analysis and Technologies Italy\\n\\n**Past Usage**:\\n - S. Aeberhard, D. Coomans and O. de Vel,\\n   Comparison of Classifiers in High Dimensional Settings,\\n   Tech. Rep. no. 92-02, (1992), Dept. of Computer Science and Dept. of\\n   Mathematics and Statistics, James Cook University of North Queensland.\\n   (Also submitted to Technometrics).\\n \\n    The data was used with many others for comparing various \\n    classifiers. The classes are separable, though only RDA \\n    has achieved 100% correct classification.\\n    (RDA : 100%, QDA 99.4%, LDA 98.9%, 1NN 96.1% (z-transformed data))\\n    (All results using the leave-one-out technique)\\n \\n    In a classification context, this is a well posed problem \\n    with \"well behaved\" class structures. A good data set \\n    for first testing of a new classifier, but not very \\n    challenging.\\n \\n  - S. Aeberhard, D. Coomans and O. de Vel,\\n    \"THE CLASSIFICATION PERFORMANCE OF RDA\"\\n    Tech. Rep. no. 92-01, (1992), Dept. of Computer Science and Dept. of\\n    Mathematics and Statistics, James Cook University of North Queensland.\\n    (Also submitted to Journal of Chemometrics).\\n \\n    Here, the data was used to illustrate the superior performance of\\n    the use of a new appreciation function with RDA. \\n \\n**Relevant Informatio**n:\\n \\n- These data are the results of a chemical analysis of\\n       wines grown in the same region in Italy but derived from three\\n       different cultivars.\\n       The analysis determined the quantities of 13 constituents\\n       found in each of the three types of wines. \\n \\n    -- I think that the initial data set had around 30 variables, but \\n       for some reason I only have the 13 dimensional version. \\n       I had a list of what the 30 or so variables were, but a.) \\n       I lost it, and b.), I would not know which 13 variables\\n       are included in the set.\\n \\n- The attributes are:\\n  \\t1) Alcohol\\n  \\t2) Malic acid\\n  \\t3) Ash\\n \\t4) Alcalinity of ash  \\n  \\t5) Magnesium\\n \\t6) Total phenols\\n  \\t7) Flavanoids\\n  \\t8) Nonflavanoid phenols\\n  \\t9) Proanthocyanins\\n \\t10) Color intensity\\n  \\t11) Hue\\n  \\t12) OD280/OD315 of diluted wines\\n  \\t13) Proline            \\n\\n- For Each Attribute:\\n \\tAll attributes are continuous\\n \\tNo statistics available, but suggest to standardise\\n \\tvariables for certain uses (e.g. for us with classifiers\\n \\twhich are NOT scale invariant)\\n \\n \\tNOTE: 1st attribute is class identifier (1-3)\\n\\n Information about the dataset\\n CLASSTYPE: nominal\\n CLASSINDEX: first\\n\\nDownloaded from openml.org.',\n",
       " 'details': {'id': '187',\n",
       "  'name': 'wine',\n",
       "  'version': '1',\n",
       "  'format': 'ARFF',\n",
       "  'creator': ['Forina', 'M. et al'],\n",
       "  'contributor': 'S. Aeberhard',\n",
       "  'collection_date': '07/1991',\n",
       "  'upload_date': '2014-04-23T13:15:22',\n",
       "  'language': 'English',\n",
       "  'licence': 'Public',\n",
       "  'url': 'https://www.openml.org/data/v1/download/3624/wine.arff',\n",
       "  'file_id': '3624',\n",
       "  'default_target_attribute': 'class',\n",
       "  'version_label': '1',\n",
       "  'tag': ['study_1',\n",
       "   'study_123',\n",
       "   'study_41',\n",
       "   'study_50',\n",
       "   'study_52',\n",
       "   'study_7',\n",
       "   'study_88',\n",
       "   'wine'],\n",
       "  'visibility': 'public',\n",
       "  'original_data_url': '07/1991',\n",
       "  'status': 'active',\n",
       "  'processing_date': '2020-11-20 20:03:04',\n",
       "  'md5_checksum': '08d4b124160b36215c9d0e3605598caa'},\n",
       " 'url': 'https://www.openml.org/d/187'}"
      ]
     },
     "execution_count": 3,
     "metadata": {},
     "output_type": "execute_result"
    }
   ],
   "source": [
    "wine"
   ]
  },
  {
   "cell_type": "code",
   "execution_count": 4,
   "metadata": {},
   "outputs": [
    {
     "data": {
      "text/plain": [
       "(178, 13)"
      ]
     },
     "execution_count": 4,
     "metadata": {},
     "output_type": "execute_result"
    }
   ],
   "source": [
    "wine.data.shape"
   ]
  },
  {
   "cell_type": "code",
   "execution_count": 5,
   "metadata": {
    "scrolled": true
   },
   "outputs": [
    {
     "data": {
      "text/plain": [
       "array([[1.423e+01, 1.710e+00, 2.430e+00, ..., 1.040e+00, 3.920e+00,\n",
       "        1.065e+03],\n",
       "       [1.320e+01, 1.780e+00, 2.140e+00, ..., 1.050e+00, 3.400e+00,\n",
       "        1.050e+03],\n",
       "       [1.316e+01, 2.360e+00, 2.670e+00, ..., 1.030e+00, 3.170e+00,\n",
       "        1.185e+03],\n",
       "       ...,\n",
       "       [1.327e+01, 4.280e+00, 2.260e+00, ..., 5.900e-01, 1.560e+00,\n",
       "        8.350e+02],\n",
       "       [1.317e+01, 2.590e+00, 2.370e+00, ..., 6.000e-01, 1.620e+00,\n",
       "        8.400e+02],\n",
       "       [1.413e+01, 4.100e+00, 2.740e+00, ..., 6.100e-01, 1.600e+00,\n",
       "        5.600e+02]])"
      ]
     },
     "execution_count": 5,
     "metadata": {},
     "output_type": "execute_result"
    }
   ],
   "source": [
    "wine.data"
   ]
  },
  {
   "cell_type": "code",
   "execution_count": 6,
   "metadata": {},
   "outputs": [
    {
     "data": {
      "text/plain": [
       "['Alcohol',\n",
       " 'Malic_acid',\n",
       " 'Ash',\n",
       " 'Alcalinity_of_ash',\n",
       " 'Magnesium',\n",
       " 'Total_phenols',\n",
       " 'Flavanoids',\n",
       " 'Nonflavanoid_phenols',\n",
       " 'Proanthocyanins',\n",
       " 'Color_intensity',\n",
       " 'Hue',\n",
       " 'OD280%2FOD315_of_diluted_wines',\n",
       " 'Proline']"
      ]
     },
     "execution_count": 6,
     "metadata": {},
     "output_type": "execute_result"
    }
   ],
   "source": [
    "wine.feature_names"
   ]
  },
  {
   "cell_type": "code",
   "execution_count": 7,
   "metadata": {},
   "outputs": [
    {
     "data": {
      "text/html": [
       "<div>\n",
       "<style scoped>\n",
       "    .dataframe tbody tr th:only-of-type {\n",
       "        vertical-align: middle;\n",
       "    }\n",
       "\n",
       "    .dataframe tbody tr th {\n",
       "        vertical-align: top;\n",
       "    }\n",
       "\n",
       "    .dataframe thead th {\n",
       "        text-align: right;\n",
       "    }\n",
       "</style>\n",
       "<table border=\"1\" class=\"dataframe\">\n",
       "  <thead>\n",
       "    <tr style=\"text-align: right;\">\n",
       "      <th></th>\n",
       "      <th>Alcohol</th>\n",
       "      <th>Malic_acid</th>\n",
       "      <th>Ash</th>\n",
       "      <th>Alcalinity_of_ash</th>\n",
       "      <th>Magnesium</th>\n",
       "      <th>Total_phenols</th>\n",
       "      <th>Flavanoids</th>\n",
       "      <th>Nonflavanoid_phenols</th>\n",
       "      <th>Proanthocyanins</th>\n",
       "      <th>Color_intensity</th>\n",
       "      <th>Hue</th>\n",
       "      <th>OD280%2FOD315_of_diluted_wines</th>\n",
       "      <th>Proline</th>\n",
       "    </tr>\n",
       "  </thead>\n",
       "  <tbody>\n",
       "    <tr>\n",
       "      <th>0</th>\n",
       "      <td>14.23</td>\n",
       "      <td>1.71</td>\n",
       "      <td>2.43</td>\n",
       "      <td>15.6</td>\n",
       "      <td>127.0</td>\n",
       "      <td>2.80</td>\n",
       "      <td>3.06</td>\n",
       "      <td>0.28</td>\n",
       "      <td>2.29</td>\n",
       "      <td>5.64</td>\n",
       "      <td>1.04</td>\n",
       "      <td>3.92</td>\n",
       "      <td>1065.0</td>\n",
       "    </tr>\n",
       "    <tr>\n",
       "      <th>1</th>\n",
       "      <td>13.20</td>\n",
       "      <td>1.78</td>\n",
       "      <td>2.14</td>\n",
       "      <td>11.2</td>\n",
       "      <td>100.0</td>\n",
       "      <td>2.65</td>\n",
       "      <td>2.76</td>\n",
       "      <td>0.26</td>\n",
       "      <td>1.28</td>\n",
       "      <td>4.38</td>\n",
       "      <td>1.05</td>\n",
       "      <td>3.40</td>\n",
       "      <td>1050.0</td>\n",
       "    </tr>\n",
       "    <tr>\n",
       "      <th>2</th>\n",
       "      <td>13.16</td>\n",
       "      <td>2.36</td>\n",
       "      <td>2.67</td>\n",
       "      <td>18.6</td>\n",
       "      <td>101.0</td>\n",
       "      <td>2.80</td>\n",
       "      <td>3.24</td>\n",
       "      <td>0.30</td>\n",
       "      <td>2.81</td>\n",
       "      <td>5.68</td>\n",
       "      <td>1.03</td>\n",
       "      <td>3.17</td>\n",
       "      <td>1185.0</td>\n",
       "    </tr>\n",
       "    <tr>\n",
       "      <th>3</th>\n",
       "      <td>14.37</td>\n",
       "      <td>1.95</td>\n",
       "      <td>2.50</td>\n",
       "      <td>16.8</td>\n",
       "      <td>113.0</td>\n",
       "      <td>3.85</td>\n",
       "      <td>3.49</td>\n",
       "      <td>0.24</td>\n",
       "      <td>2.18</td>\n",
       "      <td>7.80</td>\n",
       "      <td>0.86</td>\n",
       "      <td>3.45</td>\n",
       "      <td>1480.0</td>\n",
       "    </tr>\n",
       "    <tr>\n",
       "      <th>4</th>\n",
       "      <td>13.24</td>\n",
       "      <td>2.59</td>\n",
       "      <td>2.87</td>\n",
       "      <td>21.0</td>\n",
       "      <td>118.0</td>\n",
       "      <td>2.80</td>\n",
       "      <td>2.69</td>\n",
       "      <td>0.39</td>\n",
       "      <td>1.82</td>\n",
       "      <td>4.32</td>\n",
       "      <td>1.04</td>\n",
       "      <td>2.93</td>\n",
       "      <td>735.0</td>\n",
       "    </tr>\n",
       "  </tbody>\n",
       "</table>\n",
       "</div>"
      ],
      "text/plain": [
       "   Alcohol  Malic_acid   Ash  Alcalinity_of_ash  Magnesium  Total_phenols  \\\n",
       "0    14.23        1.71  2.43               15.6      127.0           2.80   \n",
       "1    13.20        1.78  2.14               11.2      100.0           2.65   \n",
       "2    13.16        2.36  2.67               18.6      101.0           2.80   \n",
       "3    14.37        1.95  2.50               16.8      113.0           3.85   \n",
       "4    13.24        2.59  2.87               21.0      118.0           2.80   \n",
       "\n",
       "   Flavanoids  Nonflavanoid_phenols  Proanthocyanins  Color_intensity   Hue  \\\n",
       "0        3.06                  0.28             2.29             5.64  1.04   \n",
       "1        2.76                  0.26             1.28             4.38  1.05   \n",
       "2        3.24                  0.30             2.81             5.68  1.03   \n",
       "3        3.49                  0.24             2.18             7.80  0.86   \n",
       "4        2.69                  0.39             1.82             4.32  1.04   \n",
       "\n",
       "   OD280%2FOD315_of_diluted_wines  Proline  \n",
       "0                            3.92   1065.0  \n",
       "1                            3.40   1050.0  \n",
       "2                            3.17   1185.0  \n",
       "3                            3.45   1480.0  \n",
       "4                            2.93    735.0  "
      ]
     },
     "execution_count": 7,
     "metadata": {},
     "output_type": "execute_result"
    }
   ],
   "source": [
    "X_df = pd.DataFrame(wine.data, columns = wine.feature_names)\n",
    "X_df.head()"
   ]
  },
  {
   "cell_type": "code",
   "execution_count": 8,
   "metadata": {},
   "outputs": [
    {
     "data": {
      "text/plain": [
       "array(['1', '1', '1', '1', '1', '1', '1', '1', '1', '1', '1', '1', '1',\n",
       "       '1', '1', '1', '1', '1', '1', '1', '1', '1', '1', '1', '1', '1',\n",
       "       '1', '1', '1', '1', '1', '1', '1', '1', '1', '1', '1', '1', '1',\n",
       "       '1', '1', '1', '1', '1', '1', '1', '1', '1', '1', '1', '1', '1',\n",
       "       '1', '1', '1', '1', '1', '1', '1', '2', '2', '2', '2', '2', '2',\n",
       "       '2', '2', '2', '2', '2', '2', '2', '2', '2', '2', '2', '2', '2',\n",
       "       '2', '2', '2', '2', '2', '2', '2', '2', '2', '2', '2', '2', '2',\n",
       "       '2', '2', '2', '2', '2', '2', '2', '2', '2', '2', '2', '2', '2',\n",
       "       '2', '2', '2', '2', '2', '2', '2', '2', '2', '2', '2', '2', '2',\n",
       "       '2', '2', '2', '2', '2', '2', '2', '2', '2', '2', '2', '2', '2',\n",
       "       '3', '3', '3', '3', '3', '3', '3', '3', '3', '3', '3', '3', '3',\n",
       "       '3', '3', '3', '3', '3', '3', '3', '3', '3', '3', '3', '3', '3',\n",
       "       '3', '3', '3', '3', '3', '3', '3', '3', '3', '3', '3', '3', '3',\n",
       "       '3', '3', '3', '3', '3', '3', '3', '3', '3'], dtype=object)"
      ]
     },
     "execution_count": 8,
     "metadata": {},
     "output_type": "execute_result"
    }
   ],
   "source": [
    "wine.target"
   ]
  },
  {
   "cell_type": "code",
   "execution_count": 9,
   "metadata": {},
   "outputs": [
    {
     "data": {
      "text/plain": [
       "['class']"
      ]
     },
     "execution_count": 9,
     "metadata": {},
     "output_type": "execute_result"
    }
   ],
   "source": [
    "wine.target_names"
   ]
  },
  {
   "cell_type": "code",
   "execution_count": 10,
   "metadata": {},
   "outputs": [
    {
     "data": {
      "text/html": [
       "<div>\n",
       "<style scoped>\n",
       "    .dataframe tbody tr th:only-of-type {\n",
       "        vertical-align: middle;\n",
       "    }\n",
       "\n",
       "    .dataframe tbody tr th {\n",
       "        vertical-align: top;\n",
       "    }\n",
       "\n",
       "    .dataframe thead th {\n",
       "        text-align: right;\n",
       "    }\n",
       "</style>\n",
       "<table border=\"1\" class=\"dataframe\">\n",
       "  <thead>\n",
       "    <tr style=\"text-align: right;\">\n",
       "      <th></th>\n",
       "      <th>class</th>\n",
       "    </tr>\n",
       "  </thead>\n",
       "  <tbody>\n",
       "    <tr>\n",
       "      <th>0</th>\n",
       "      <td>1</td>\n",
       "    </tr>\n",
       "    <tr>\n",
       "      <th>1</th>\n",
       "      <td>1</td>\n",
       "    </tr>\n",
       "    <tr>\n",
       "      <th>2</th>\n",
       "      <td>1</td>\n",
       "    </tr>\n",
       "    <tr>\n",
       "      <th>3</th>\n",
       "      <td>1</td>\n",
       "    </tr>\n",
       "    <tr>\n",
       "      <th>4</th>\n",
       "      <td>1</td>\n",
       "    </tr>\n",
       "  </tbody>\n",
       "</table>\n",
       "</div>"
      ],
      "text/plain": [
       "  class\n",
       "0     1\n",
       "1     1\n",
       "2     1\n",
       "3     1\n",
       "4     1"
      ]
     },
     "execution_count": 10,
     "metadata": {},
     "output_type": "execute_result"
    }
   ],
   "source": [
    "y_df = pd.DataFrame(wine.target, columns = wine.target_names)\n",
    "y_df.head()"
   ]
  },
  {
   "cell_type": "code",
   "execution_count": null,
   "metadata": {},
   "outputs": [],
   "source": []
  }
 ],
 "metadata": {
  "kernelspec": {
   "display_name": "Python 3",
   "language": "python",
   "name": "python3"
  },
  "language_info": {
   "codemirror_mode": {
    "name": "ipython",
    "version": 3
   },
   "file_extension": ".py",
   "mimetype": "text/x-python",
   "name": "python",
   "nbconvert_exporter": "python",
   "pygments_lexer": "ipython3",
   "version": "3.8.5"
  }
 },
 "nbformat": 4,
 "nbformat_minor": 4
}
